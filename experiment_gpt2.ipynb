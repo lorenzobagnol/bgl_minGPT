{
 "cells": [
  {
   "cell_type": "code",
   "execution_count": null,
   "metadata": {},
   "outputs": [],
   "source": [
    "!git init\n",
    "!git remote add origin https://github.com/lorenzobagnol/bgl_minGPT.git\n",
    "!git pull origin main"
   ]
  },
  {
   "cell_type": "code",
   "execution_count": null,
   "metadata": {},
   "outputs": [],
   "source": [
    "%pip install -r requirements.txt"
   ]
  },
  {
   "cell_type": "code",
   "execution_count": 2,
   "metadata": {},
   "outputs": [
    {
     "name": "stderr",
     "output_type": "stream",
     "text": [
      "c:\\Users\\loren\\Documents\\Lorenzo\\UniPi\\minGPT\\minGPT_Env\\lib\\site-packages\\tqdm\\auto.py:22: TqdmWarning: IProgress not found. Please update jupyter and ipywidgets. See https://ipywidgets.readthedocs.io/en/stable/user_install.html\n",
      "  from .autonotebook import tqdm as notebook_tqdm\n"
     ]
    }
   ],
   "source": [
    "from mingpt.model import GPT\n",
    "import json\n",
    "\n",
    "'''using a gpt2 vocab and tokenizer with vocabulary dimension of 50257'''\n",
    "with open('./gpt_experiment/gpt2_vocab.json',encoding=\"ascii\",errors=\" \") as json_file: \n",
    "    data = json.load(json_file)\n",
    "model_config = GPT.get_default_config()\n",
    "model_config.model_type='gpt-nano'\n",
    "model_config.vocab_size = len(data)\n",
    "model_config.block_size =48"
   ]
  },
  {
   "cell_type": "code",
   "execution_count": 3,
   "metadata": {},
   "outputs": [
    {
     "name": "stdout",
     "output_type": "stream",
     "text": [
      "number of parameters: 2.50M\n"
     ]
    }
   ],
   "source": [
    "model=GPT(model_config)"
   ]
  },
  {
   "cell_type": "code",
   "execution_count": 4,
   "metadata": {},
   "outputs": [
    {
     "data": {
      "text/plain": [
       "tensor([[47910, 47876,  7799, 26719, 38855, 41710]])"
      ]
     },
     "execution_count": 4,
     "metadata": {},
     "output_type": "execute_result"
    }
   ],
   "source": [
    "# first try run without any parameter optimization\n",
    "import torch\n",
    "from transformers import GPT2Tokenizer\n",
    "\n",
    "tokenizer = GPT2Tokenizer.from_pretrained(\"gpt2\")\n",
    "tokenized_input=torch.tensor([tokenizer(\"Vice distortions\")['input_ids']], dtype=torch.long)\n",
    "with torch.no_grad():\n",
    "    cat = model.generate(tokenized_input, 4, do_sample=False)\n",
    "cat\n"
   ]
  },
  {
   "cell_type": "code",
   "execution_count": 4,
   "metadata": {},
   "outputs": [
    {
     "data": {
      "text/plain": [
       "GPT(\n",
       "  (transformer): ModuleDict(\n",
       "    (wte): Embedding(50257, 48)\n",
       "    (wpe): Embedding(48, 48)\n",
       "    (drop): Dropout(p=0.1, inplace=False)\n",
       "    (h): ModuleList(\n",
       "      (0): Block(\n",
       "        (ln_1): LayerNorm((48,), eps=1e-05, elementwise_affine=True)\n",
       "        (attn): CausalSelfAttention(\n",
       "          (c_attn): Linear(in_features=48, out_features=144, bias=True)\n",
       "          (c_proj): Linear(in_features=48, out_features=48, bias=True)\n",
       "          (attn_dropout): Dropout(p=0.1, inplace=False)\n",
       "          (resid_dropout): Dropout(p=0.1, inplace=False)\n",
       "        )\n",
       "        (ln_2): LayerNorm((48,), eps=1e-05, elementwise_affine=True)\n",
       "        (mlp): ModuleDict(\n",
       "          (c_fc): Linear(in_features=48, out_features=192, bias=True)\n",
       "          (c_proj): Linear(in_features=192, out_features=48, bias=True)\n",
       "          (act): NewGELU()\n",
       "          (dropout): Dropout(p=0.1, inplace=False)\n",
       "        )\n",
       "      )\n",
       "      (1): Block(\n",
       "        (ln_1): LayerNorm((48,), eps=1e-05, elementwise_affine=True)\n",
       "        (attn): CausalSelfAttention(\n",
       "          (c_attn): Linear(in_features=48, out_features=144, bias=True)\n",
       "          (c_proj): Linear(in_features=48, out_features=48, bias=True)\n",
       "          (attn_dropout): Dropout(p=0.1, inplace=False)\n",
       "          (resid_dropout): Dropout(p=0.1, inplace=False)\n",
       "        )\n",
       "        (ln_2): LayerNorm((48,), eps=1e-05, elementwise_affine=True)\n",
       "        (mlp): ModuleDict(\n",
       "          (c_fc): Linear(in_features=48, out_features=192, bias=True)\n",
       "          (c_proj): Linear(in_features=192, out_features=48, bias=True)\n",
       "          (act): NewGELU()\n",
       "          (dropout): Dropout(p=0.1, inplace=False)\n",
       "        )\n",
       "      )\n",
       "      (2): Block(\n",
       "        (ln_1): LayerNorm((48,), eps=1e-05, elementwise_affine=True)\n",
       "        (attn): CausalSelfAttention(\n",
       "          (c_attn): Linear(in_features=48, out_features=144, bias=True)\n",
       "          (c_proj): Linear(in_features=48, out_features=48, bias=True)\n",
       "          (attn_dropout): Dropout(p=0.1, inplace=False)\n",
       "          (resid_dropout): Dropout(p=0.1, inplace=False)\n",
       "        )\n",
       "        (ln_2): LayerNorm((48,), eps=1e-05, elementwise_affine=True)\n",
       "        (mlp): ModuleDict(\n",
       "          (c_fc): Linear(in_features=48, out_features=192, bias=True)\n",
       "          (c_proj): Linear(in_features=192, out_features=48, bias=True)\n",
       "          (act): NewGELU()\n",
       "          (dropout): Dropout(p=0.1, inplace=False)\n",
       "        )\n",
       "      )\n",
       "    )\n",
       "    (ln_f): LayerNorm((48,), eps=1e-05, elementwise_affine=True)\n",
       "  )\n",
       "  (lm_head): Linear(in_features=48, out_features=50257, bias=False)\n",
       ")"
      ]
     },
     "execution_count": 4,
     "metadata": {},
     "output_type": "execute_result"
    }
   ],
   "source": [
    "model"
   ]
  },
  {
   "cell_type": "code",
   "execution_count": 5,
   "metadata": {},
   "outputs": [],
   "source": [
    "# clean and tokenize every sentence in the dataset\n",
    "import random\n",
    "import requests, json\n",
    "from torch.utils.data import Dataset\n",
    "\n",
    "class SentenceDataset(Dataset):\n",
    "\n",
    "    def __init__(self, split, length=48):\n",
    "        assert split in {'train', 'test'}\n",
    "        self.split = split\n",
    "        self.length = length\n",
    "        API_URL =  \"https://datasets-server.huggingface.co/first-rows?dataset=bookcorpus&config=plain_text&split=train\"\n",
    "        def query():\n",
    "            response = requests.request(\"GET\", API_URL)\n",
    "            return response.json()\n",
    "        data = query()\n",
    "        tokenized_sentences=[]\n",
    "        sentences=data['rows']\n",
    "        for i in range(100):\n",
    "            tokenized_sen=torch.tensor([tokenizer(sentences[i]['row']['text'])['input_ids']], dtype=torch.long)\n",
    "            if(len(tokenized_sen)>length):\n",
    "                tokenized_sen=tokenized_sen[:][:length]\n",
    "            tokenized_sentences.append(tokenized_sen)\n",
    "        self.samples=tokenized_sentences\n",
    "    \n",
    "    def __len__(self):\n",
    "        return 100\n",
    "    \n",
    "    def get_vocab_size(self):\n",
    "        return self.num_digits\n",
    "    \n",
    "    def get_block_size(self):\n",
    "        # the length of the sequence that will feed into transformer, \n",
    "        # containing concatenated input and the output, but -1 because\n",
    "        # the transformer starts making predictions at the last input element\n",
    "        return self.length #* 2-1\n",
    "\n",
    "    def __getitem__(self, idx):\n",
    "        sentence=self.samples[idx][0]\n",
    "        residual_length=192-len(sentence)\n",
    "        masked=torch.cat((torch.tensor(sentence[:-1]),torch.tensor([50256]*(residual_length+1))),0)\n",
    "        sol=torch.cat((sentence,torch.tensor([50256]*(residual_length))),0)\n",
    "        sol[0]=50256\n",
    "        return masked, sol\n",
    "        #return sentence, sol\n"
   ]
  },
  {
   "cell_type": "code",
   "execution_count": 6,
   "metadata": {},
   "outputs": [
    {
     "name": "stderr",
     "output_type": "stream",
     "text": [
      "Token indices sequence length is longer than the specified maximum sequence length for this model (4793788 > 1024). Running this sequence through the model will result in indexing errors\n"
     ]
    }
   ],
   "source": [
    "with open(\"./books.txt\",encoding=\"utf16\") as file:\n",
    "    tokenized_corpus=tokenizer(file.read())['input_ids']"
   ]
  },
  {
   "cell_type": "code",
   "execution_count": 7,
   "metadata": {},
   "outputs": [],
   "source": [
    "import os\n",
    "\n",
    "class BookDataset(Dataset):\n",
    "\n",
    "    def __init__(self, split, length=48):\n",
    "        assert split in {'train', 'test'}\n",
    "        self.split = split\n",
    "        self.length = length\n",
    "        tokenized_sentences=[]\n",
    "        with open(\"./books.txt\",encoding=\"utf16\") as file:\n",
    "            tokenized_corpus=torch.tensor(tokenizer(file.read())['input_ids'], dtype=torch.long)\n",
    "        corpus_len=len(tokenized_corpus)-(len(tokenized_corpus)%length)\n",
    "        tokenized_corpus=tokenized_corpus[:corpus_len]\n",
    "        tokenized_sentences=[]\n",
    "        self.len=int(corpus_len/length)\n",
    "        for i in range (self.len):\n",
    "            tokenized_sentences.append(tokenized_corpus[i*length:(i+1)*length])\n",
    "        self.samples=tokenized_sentences\n",
    "    \n",
    "    def __len__(self):\n",
    "        return self.len #number of sentences\n",
    "    \n",
    "    def get_vocab_size(self):\n",
    "        return self.num_digits\n",
    "    \n",
    "    def get_block_size(self):\n",
    "        # the length of the sequence that will feed into transformer, \n",
    "        # containing concatenated input and the output, but -1 because\n",
    "        # the transformer starts making predictions at the last input element\n",
    "        return self.length #* 2-1\n",
    "\n",
    "    def __getitem__(self, idx):\n",
    "        sentence=self.samples[idx]\n",
    "        input=torch.cat((torch.tensor([50256]),torch.tensor(sentence[:self.length-1])),0)\n",
    "        output=sentence\n",
    "        return input, output\n",
    "        #return sentence, sol\n"
   ]
  },
  {
   "cell_type": "code",
   "execution_count": null,
   "metadata": {},
   "outputs": [],
   "source": [
    "train_dataset = SentenceDataset('train')\n",
    "test_dataset = SentenceDataset('test')"
   ]
  },
  {
   "cell_type": "code",
   "execution_count": 8,
   "metadata": {},
   "outputs": [],
   "source": [
    "train_dataset = BookDataset('train')\n",
    "test_dataset = BookDataset('test')"
   ]
  },
  {
   "cell_type": "code",
   "execution_count": 11,
   "metadata": {},
   "outputs": [
    {
     "name": "stderr",
     "output_type": "stream",
     "text": [
      "C:\\Users\\loren\\AppData\\Local\\Temp\\ipykernel_3084\\2359389720.py:34: UserWarning: To copy construct from a tensor, it is recommended to use sourceTensor.clone().detach() or sourceTensor.clone().detach().requires_grad_(True), rather than torch.tensor(sourceTensor).\n",
      "  input=torch.cat((torch.tensor([50256]),torch.tensor(sentence[:self.length-1])),0)\n"
     ]
    },
    {
     "data": {
      "text/plain": [
       "(tensor([50256,   673,   714,  2245,   284,   892,   546,   340,   673,  4721,\n",
       "           607,  5422,   290, 24790,   607,  9941,  2769,   656,   376,  1531,\n",
       "           447,   247,    82, 11222,    13,  1375,  2982,   257,  7128,   272,\n",
       "          2406,   422,   376,  1531,   447,   247,    82,  7721,   290,   788,\n",
       "           262,  1877,  1663,    75,   673,   550,  1716, 23840]),\n",
       " tensor([  673,   714,  2245,   284,   892,   546,   340,   673,  4721,   607,\n",
       "          5422,   290, 24790,   607,  9941,  2769,   656,   376,  1531,   447,\n",
       "           247,    82, 11222,    13,  1375,  2982,   257,  7128,   272,  2406,\n",
       "           422,   376,  1531,   447,   247,    82,  7721,   290,   788,   262,\n",
       "          1877,  1663,    75,   673,   550,  1716, 23840,   284]))"
      ]
     },
     "execution_count": 11,
     "metadata": {},
     "output_type": "execute_result"
    }
   ],
   "source": [
    "train_dataset[7809]\n"
   ]
  },
  {
   "cell_type": "code",
   "execution_count": 11,
   "metadata": {},
   "outputs": [
    {
     "name": "stdout",
     "output_type": "stream",
     "text": [
      "running on device cpu\n"
     ]
    }
   ],
   "source": [
    "# create a Trainer object\n",
    "from mingpt.trainer import Trainer\n",
    "\n",
    "train_config = Trainer.get_default_config() # we can also change some of them if we want\n",
    "train_config.learning_rate = 5e-4 \n",
    "train_config.max_iters = 2000\n",
    "train_config.num_workers = 0\n",
    "train_config.batch_size=20\n",
    "trainer = Trainer(train_config, model, train_dataset)"
   ]
  },
  {
   "cell_type": "code",
   "execution_count": 9,
   "metadata": {},
   "outputs": [
    {
     "data": {
      "text/plain": [
       "<All keys matched successfully>"
      ]
     },
     "execution_count": 9,
     "metadata": {},
     "output_type": "execute_result"
    }
   ],
   "source": [
    "checkpoint = torch.load('model.pt')\n",
    "model.load_state_dict(checkpoint['model_state_dict'])"
   ]
  },
  {
   "cell_type": "code",
   "execution_count": null,
   "metadata": {},
   "outputs": [],
   "source": [
    "def batch_end_callback(trainer):\n",
    "    if trainer.iter_num % 10 == 0:\n",
    "        print(f\"iter_dt {trainer.iter_dt * 1000:.2f}ms; iter {trainer.iter_num}: train loss {trainer.loss.item():.5f}\")\n",
    "trainer.set_callback('on_batch_end', batch_end_callback)\n",
    "train_config.learning_rate=5e-5\n",
    "trainer.run()"
   ]
  },
  {
   "cell_type": "code",
   "execution_count": null,
   "metadata": {},
   "outputs": [],
   "source": [
    "optimizer = model.configure_optimizers(train_config)\n",
    "PATH = \"model.pt\"\n",
    "torch.save({\n",
    "    'model_state_dict':model.state_dict()\n",
    "}, PATH)"
   ]
  },
  {
   "cell_type": "code",
   "execution_count": 21,
   "metadata": {},
   "outputs": [
    {
     "name": "stdout",
     "output_type": "stream",
     "text": [
      "tensor([[15496,    11,   616,  3290,   318, 13779]])\n",
      "ĊĠIĊ.Ġa\n",
      "  I . a\n"
     ]
    }
   ],
   "source": [
    "inputs = tokenizer(\"Hello, my dog is cute\", return_tensors=\"pt\")['input_ids']\n",
    "print(inputs)\n",
    "output=model(inputs)\n",
    "max_ids=output[0].max(2).indices\n",
    "data.items()\n",
    "inverted_vocab= {b:a for a, b in data.items()}\n",
    "out_string=\"\"\n",
    "for i in range(5):\n",
    "      out_string=out_string+inverted_vocab[max_ids[0,i].item()]\n",
    "print(out_string)\n",
    "print(out_string.replace(\"Ġ\",\" \").replace(\"Ċ\",\" \"))"
   ]
  }
 ],
 "metadata": {
  "kernelspec": {
   "display_name": "minGPT_Env",
   "language": "python",
   "name": "python3"
  },
  "language_info": {
   "codemirror_mode": {
    "name": "ipython",
    "version": 3
   },
   "file_extension": ".py",
   "mimetype": "text/x-python",
   "name": "python",
   "nbconvert_exporter": "python",
   "pygments_lexer": "ipython3",
   "version": "3.10.0"
  },
  "orig_nbformat": 4,
  "vscode": {
   "interpreter": {
    "hash": "358f410b908016fb66466b2cb1869b8026562dbfcfef87ee32ce010a9997e63e"
   }
  }
 },
 "nbformat": 4,
 "nbformat_minor": 2
}
