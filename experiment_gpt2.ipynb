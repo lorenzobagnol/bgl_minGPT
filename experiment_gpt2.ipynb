{
 "cells": [
  {
   "cell_type": "code",
   "execution_count": 2,
   "metadata": {},
   "outputs": [
    {
     "name": "stdout",
     "output_type": "stream",
     "text": [
      "Reinitialized existing Git repository in C:/Users/loren/Documents/Lorenzo/UniPi/minGPT/.git/\n"
     ]
    },
    {
     "name": "stderr",
     "output_type": "stream",
     "text": [
      "error: remote origin already exists.\n",
      "From https://github.com/lorenzobagnol/bgl_minGPT\n",
      " * branch            main       -> FETCH_HEAD\n"
     ]
    },
    {
     "name": "stdout",
     "output_type": "stream",
     "text": [
      "Already up to date.\n"
     ]
    }
   ],
   "source": [
    "!git init\n",
    "!git remote add origin https://github.com/lorenzobagnol/bgl_minGPT.git\n",
    "!git pull origin main"
   ]
  },
  {
   "cell_type": "code",
   "execution_count": 3,
   "metadata": {},
   "outputs": [
    {
     "name": "stdout",
     "output_type": "stream",
     "text": [
      "Requirement already satisfied: absl-py==1.4.0 in c:\\users\\loren\\documents\\lorenzo\\unipi\\mingpt\\mingpt_env\\lib\\site-packages (from -r requirements.txt (line 1)) (1.4.0)Note: you may need to restart the kernel to use updated packages.\n",
      "\n",
      "Requirement already satisfied: asttokens==2.2.1 in c:\\users\\loren\\documents\\lorenzo\\unipi\\mingpt\\mingpt_env\\lib\\site-packages (from -r requirements.txt (line 2)) (2.2.1)\n",
      "Requirement already satisfied: backcall==0.2.0 in c:\\users\\loren\\documents\\lorenzo\\unipi\\mingpt\\mingpt_env\\lib\\site-packages (from -r requirements.txt (line 3)) (0.2.0)\n",
      "Requirement already satisfied: cachetools==5.3.0 in c:\\users\\loren\\documents\\lorenzo\\unipi\\mingpt\\mingpt_env\\lib\\site-packages (from -r requirements.txt (line 4)) (5.3.0)\n",
      "Requirement already satisfied: certifi==2022.12.7 in c:\\users\\loren\\documents\\lorenzo\\unipi\\mingpt\\mingpt_env\\lib\\site-packages (from -r requirements.txt (line 5)) (2022.12.7)\n",
      "Requirement already satisfied: charset-normalizer==3.0.1 in c:\\users\\loren\\documents\\lorenzo\\unipi\\mingpt\\mingpt_env\\lib\\site-packages (from -r requirements.txt (line 6)) (3.0.1)\n",
      "Requirement already satisfied: colorama==0.4.6 in c:\\users\\loren\\documents\\lorenzo\\unipi\\mingpt\\mingpt_env\\lib\\site-packages (from -r requirements.txt (line 7)) (0.4.6)\n",
      "Requirement already satisfied: comm==0.1.2 in c:\\users\\loren\\documents\\lorenzo\\unipi\\mingpt\\mingpt_env\\lib\\site-packages (from -r requirements.txt (line 8)) (0.1.2)\n",
      "Requirement already satisfied: debugpy==1.6.5 in c:\\users\\loren\\documents\\lorenzo\\unipi\\mingpt\\mingpt_env\\lib\\site-packages (from -r requirements.txt (line 9)) (1.6.5)\n",
      "Requirement already satisfied: decorator==5.1.1 in c:\\users\\loren\\documents\\lorenzo\\unipi\\mingpt\\mingpt_env\\lib\\site-packages (from -r requirements.txt (line 10)) (5.1.1)\n",
      "Requirement already satisfied: entrypoints==0.4 in c:\\users\\loren\\documents\\lorenzo\\unipi\\mingpt\\mingpt_env\\lib\\site-packages (from -r requirements.txt (line 11)) (0.4)\n",
      "Requirement already satisfied: executing==1.2.0 in c:\\users\\loren\\documents\\lorenzo\\unipi\\mingpt\\mingpt_env\\lib\\site-packages (from -r requirements.txt (line 12)) (1.2.0)\n",
      "Requirement already satisfied: filelock==3.9.0 in c:\\users\\loren\\documents\\lorenzo\\unipi\\mingpt\\mingpt_env\\lib\\site-packages (from -r requirements.txt (line 13)) (3.9.0)\n",
      "Requirement already satisfied: google-auth==2.16.0 in c:\\users\\loren\\documents\\lorenzo\\unipi\\mingpt\\mingpt_env\\lib\\site-packages (from -r requirements.txt (line 14)) (2.16.0)\n",
      "Requirement already satisfied: google-auth-oauthlib==0.4.6 in c:\\users\\loren\\documents\\lorenzo\\unipi\\mingpt\\mingpt_env\\lib\\site-packages (from -r requirements.txt (line 15)) (0.4.6)\n",
      "Requirement already satisfied: grpcio==1.51.1 in c:\\users\\loren\\documents\\lorenzo\\unipi\\mingpt\\mingpt_env\\lib\\site-packages (from -r requirements.txt (line 16)) (1.51.1)\n",
      "Requirement already satisfied: huggingface-hub==0.12.0 in c:\\users\\loren\\documents\\lorenzo\\unipi\\mingpt\\mingpt_env\\lib\\site-packages (from -r requirements.txt (line 17)) (0.12.0)\n",
      "Requirement already satisfied: idna==3.4 in c:\\users\\loren\\documents\\lorenzo\\unipi\\mingpt\\mingpt_env\\lib\\site-packages (from -r requirements.txt (line 18)) (3.4)\n",
      "Requirement already satisfied: ipykernel==6.20.1 in c:\\users\\loren\\documents\\lorenzo\\unipi\\mingpt\\mingpt_env\\lib\\site-packages (from -r requirements.txt (line 19)) (6.20.1)\n",
      "Requirement already satisfied: ipython==8.8.0 in c:\\users\\loren\\documents\\lorenzo\\unipi\\mingpt\\mingpt_env\\lib\\site-packages (from -r requirements.txt (line 20)) (8.8.0)\n",
      "Requirement already satisfied: jedi==0.18.2 in c:\\users\\loren\\documents\\lorenzo\\unipi\\mingpt\\mingpt_env\\lib\\site-packages (from -r requirements.txt (line 21)) (0.18.2)\n",
      "Requirement already satisfied: jupyter_client==7.4.8 in c:\\users\\loren\\documents\\lorenzo\\unipi\\mingpt\\mingpt_env\\lib\\site-packages (from -r requirements.txt (line 22)) (7.4.8)\n",
      "Requirement already satisfied: jupyter_core==5.1.3 in c:\\users\\loren\\documents\\lorenzo\\unipi\\mingpt\\mingpt_env\\lib\\site-packages (from -r requirements.txt (line 23)) (5.1.3)\n",
      "Requirement already satisfied: Markdown==3.4.1 in c:\\users\\loren\\documents\\lorenzo\\unipi\\mingpt\\mingpt_env\\lib\\site-packages (from -r requirements.txt (line 24)) (3.4.1)\n",
      "Requirement already satisfied: MarkupSafe==2.1.2 in c:\\users\\loren\\documents\\lorenzo\\unipi\\mingpt\\mingpt_env\\lib\\site-packages (from -r requirements.txt (line 25)) (2.1.2)\n",
      "Requirement already satisfied: matplotlib-inline==0.1.6 in c:\\users\\loren\\documents\\lorenzo\\unipi\\mingpt\\mingpt_env\\lib\\site-packages (from -r requirements.txt (line 26)) (0.1.6)\n",
      "Requirement already satisfied: nest-asyncio==1.5.6 in c:\\users\\loren\\documents\\lorenzo\\unipi\\mingpt\\mingpt_env\\lib\\site-packages (from -r requirements.txt (line 27)) (1.5.6)\n",
      "Requirement already satisfied: numpy==1.24.1 in c:\\users\\loren\\documents\\lorenzo\\unipi\\mingpt\\mingpt_env\\lib\\site-packages (from -r requirements.txt (line 28)) (1.24.1)\n",
      "Requirement already satisfied: oauthlib==3.2.2 in c:\\users\\loren\\documents\\lorenzo\\unipi\\mingpt\\mingpt_env\\lib\\site-packages (from -r requirements.txt (line 29)) (3.2.2)\n",
      "Requirement already satisfied: packaging==23.0 in c:\\users\\loren\\documents\\lorenzo\\unipi\\mingpt\\mingpt_env\\lib\\site-packages (from -r requirements.txt (line 30)) (23.0)\n",
      "Requirement already satisfied: pandas==1.5.3 in c:\\users\\loren\\documents\\lorenzo\\unipi\\mingpt\\mingpt_env\\lib\\site-packages (from -r requirements.txt (line 31)) (1.5.3)\n",
      "Requirement already satisfied: parso==0.8.3 in c:\\users\\loren\\documents\\lorenzo\\unipi\\mingpt\\mingpt_env\\lib\\site-packages (from -r requirements.txt (line 32)) (0.8.3)\n",
      "Requirement already satisfied: pickleshare==0.7.5 in c:\\users\\loren\\documents\\lorenzo\\unipi\\mingpt\\mingpt_env\\lib\\site-packages (from -r requirements.txt (line 33)) (0.7.5)\n",
      "Requirement already satisfied: Pillow==9.4.0 in c:\\users\\loren\\documents\\lorenzo\\unipi\\mingpt\\mingpt_env\\lib\\site-packages (from -r requirements.txt (line 34)) (9.4.0)\n",
      "Requirement already satisfied: platformdirs==2.6.2 in c:\\users\\loren\\documents\\lorenzo\\unipi\\mingpt\\mingpt_env\\lib\\site-packages (from -r requirements.txt (line 35)) (2.6.2)\n",
      "Requirement already satisfied: prompt-toolkit==3.0.36 in c:\\users\\loren\\documents\\lorenzo\\unipi\\mingpt\\mingpt_env\\lib\\site-packages (from -r requirements.txt (line 36)) (3.0.36)\n",
      "Requirement already satisfied: protobuf==3.20.3 in c:\\users\\loren\\documents\\lorenzo\\unipi\\mingpt\\mingpt_env\\lib\\site-packages (from -r requirements.txt (line 37)) (3.20.3)\n",
      "Requirement already satisfied: psutil==5.9.4 in c:\\users\\loren\\documents\\lorenzo\\unipi\\mingpt\\mingpt_env\\lib\\site-packages (from -r requirements.txt (line 38)) (5.9.4)\n",
      "Requirement already satisfied: pure-eval==0.2.2 in c:\\users\\loren\\documents\\lorenzo\\unipi\\mingpt\\mingpt_env\\lib\\site-packages (from -r requirements.txt (line 39)) (0.2.2)\n",
      "Requirement already satisfied: pyasn1==0.4.8 in c:\\users\\loren\\documents\\lorenzo\\unipi\\mingpt\\mingpt_env\\lib\\site-packages (from -r requirements.txt (line 40)) (0.4.8)\n",
      "Requirement already satisfied: pyasn1-modules==0.2.8 in c:\\users\\loren\\documents\\lorenzo\\unipi\\mingpt\\mingpt_env\\lib\\site-packages (from -r requirements.txt (line 41)) (0.2.8)\n",
      "Requirement already satisfied: Pygments==2.14.0 in c:\\users\\loren\\documents\\lorenzo\\unipi\\mingpt\\mingpt_env\\lib\\site-packages (from -r requirements.txt (line 42)) (2.14.0)\n",
      "Requirement already satisfied: python-dateutil==2.8.2 in c:\\users\\loren\\documents\\lorenzo\\unipi\\mingpt\\mingpt_env\\lib\\site-packages (from -r requirements.txt (line 43)) (2.8.2)\n",
      "Requirement already satisfied: pytz==2022.7.1 in c:\\users\\loren\\documents\\lorenzo\\unipi\\mingpt\\mingpt_env\\lib\\site-packages (from -r requirements.txt (line 44)) (2022.7.1)\n",
      "Requirement already satisfied: pywin32==305 in c:\\users\\loren\\documents\\lorenzo\\unipi\\mingpt\\mingpt_env\\lib\\site-packages (from -r requirements.txt (line 45)) (305)\n",
      "Requirement already satisfied: PyYAML==6.0 in c:\\users\\loren\\documents\\lorenzo\\unipi\\mingpt\\mingpt_env\\lib\\site-packages (from -r requirements.txt (line 46)) (6.0)\n",
      "Requirement already satisfied: pyzmq==24.0.1 in c:\\users\\loren\\documents\\lorenzo\\unipi\\mingpt\\mingpt_env\\lib\\site-packages (from -r requirements.txt (line 47)) (24.0.1)\n",
      "Requirement already satisfied: regex==2022.10.31 in c:\\users\\loren\\documents\\lorenzo\\unipi\\mingpt\\mingpt_env\\lib\\site-packages (from -r requirements.txt (line 48)) (2022.10.31)\n",
      "Requirement already satisfied: requests==2.28.2 in c:\\users\\loren\\documents\\lorenzo\\unipi\\mingpt\\mingpt_env\\lib\\site-packages (from -r requirements.txt (line 49)) (2.28.2)\n",
      "Requirement already satisfied: requests-oauthlib==1.3.1 in c:\\users\\loren\\documents\\lorenzo\\unipi\\mingpt\\mingpt_env\\lib\\site-packages (from -r requirements.txt (line 50)) (1.3.1)\n",
      "Requirement already satisfied: rsa==4.9 in c:\\users\\loren\\documents\\lorenzo\\unipi\\mingpt\\mingpt_env\\lib\\site-packages (from -r requirements.txt (line 51)) (4.9)\n",
      "Requirement already satisfied: six==1.16.0 in c:\\users\\loren\\documents\\lorenzo\\unipi\\mingpt\\mingpt_env\\lib\\site-packages (from -r requirements.txt (line 52)) (1.16.0)\n",
      "Requirement already satisfied: stack-data==0.6.2 in c:\\users\\loren\\documents\\lorenzo\\unipi\\mingpt\\mingpt_env\\lib\\site-packages (from -r requirements.txt (line 53)) (0.6.2)\n",
      "Requirement already satisfied: tensorboard==2.11.2 in c:\\users\\loren\\documents\\lorenzo\\unipi\\mingpt\\mingpt_env\\lib\\site-packages (from -r requirements.txt (line 54)) (2.11.2)\n",
      "Requirement already satisfied: tensorboard-data-server==0.6.1 in c:\\users\\loren\\documents\\lorenzo\\unipi\\mingpt\\mingpt_env\\lib\\site-packages (from -r requirements.txt (line 55)) (0.6.1)\n",
      "Requirement already satisfied: tensorboard-plugin-wit==1.8.1 in c:\\users\\loren\\documents\\lorenzo\\unipi\\mingpt\\mingpt_env\\lib\\site-packages (from -r requirements.txt (line 56)) (1.8.1)\n",
      "Requirement already satisfied: tokenizers==0.13.2 in c:\\users\\loren\\documents\\lorenzo\\unipi\\mingpt\\mingpt_env\\lib\\site-packages (from -r requirements.txt (line 57)) (0.13.2)\n",
      "Requirement already satisfied: torch==1.13.1 in c:\\users\\loren\\documents\\lorenzo\\unipi\\mingpt\\mingpt_env\\lib\\site-packages (from -r requirements.txt (line 58)) (1.13.1)\n",
      "Requirement already satisfied: torchvision==0.14.1 in c:\\users\\loren\\documents\\lorenzo\\unipi\\mingpt\\mingpt_env\\lib\\site-packages (from -r requirements.txt (line 59)) (0.14.1)\n",
      "Requirement already satisfied: tornado==6.2 in c:\\users\\loren\\documents\\lorenzo\\unipi\\mingpt\\mingpt_env\\lib\\site-packages (from -r requirements.txt (line 60)) (6.2)\n",
      "Requirement already satisfied: tqdm==4.64.1 in c:\\users\\loren\\documents\\lorenzo\\unipi\\mingpt\\mingpt_env\\lib\\site-packages (from -r requirements.txt (line 61)) (4.64.1)\n",
      "Requirement already satisfied: traitlets==5.8.1 in c:\\users\\loren\\documents\\lorenzo\\unipi\\mingpt\\mingpt_env\\lib\\site-packages (from -r requirements.txt (line 62)) (5.8.1)\n",
      "Requirement already satisfied: transformers==4.26.0 in c:\\users\\loren\\documents\\lorenzo\\unipi\\mingpt\\mingpt_env\\lib\\site-packages (from -r requirements.txt (line 63)) (4.26.0)\n",
      "Requirement already satisfied: typing_extensions==4.4.0 in c:\\users\\loren\\documents\\lorenzo\\unipi\\mingpt\\mingpt_env\\lib\\site-packages (from -r requirements.txt (line 64)) (4.4.0)\n",
      "Requirement already satisfied: urllib3==1.26.14 in c:\\users\\loren\\documents\\lorenzo\\unipi\\mingpt\\mingpt_env\\lib\\site-packages (from -r requirements.txt (line 65)) (1.26.14)\n",
      "Requirement already satisfied: wcwidth==0.2.5 in c:\\users\\loren\\documents\\lorenzo\\unipi\\mingpt\\mingpt_env\\lib\\site-packages (from -r requirements.txt (line 66)) (0.2.5)\n",
      "Requirement already satisfied: Werkzeug==2.2.2 in c:\\users\\loren\\documents\\lorenzo\\unipi\\mingpt\\mingpt_env\\lib\\site-packages (from -r requirements.txt (line 67)) (2.2.2)\n",
      "Requirement already satisfied: wheel>=0.26 in c:\\users\\loren\\documents\\lorenzo\\unipi\\mingpt\\mingpt_env\\lib\\site-packages (from tensorboard==2.11.2->-r requirements.txt (line 54)) (0.38.4)\n",
      "Requirement already satisfied: setuptools>=41.0.0 in c:\\users\\loren\\documents\\lorenzo\\unipi\\mingpt\\mingpt_env\\lib\\site-packages (from tensorboard==2.11.2->-r requirements.txt (line 54)) (57.4.0)\n"
     ]
    },
    {
     "name": "stderr",
     "output_type": "stream",
     "text": [
      "WARNING: You are using pip version 21.2.3; however, version 22.3.1 is available.\n",
      "You should consider upgrading via the 'c:\\Users\\loren\\Documents\\Lorenzo\\UniPi\\minGPT\\minGPT_Env\\Scripts\\python.exe -m pip install --upgrade pip' command.\n"
     ]
    }
   ],
   "source": [
    "%pip install -r requirements.txt"
   ]
  },
  {
   "cell_type": "code",
   "execution_count": 4,
   "metadata": {},
   "outputs": [],
   "source": [
    "from mingpt.model import GPT\n",
    "import json\n",
    "\n",
    "'''using a gpt2 vocab and tokenizer with vocabulary dimension of 50257'''\n",
    "with open('./gpt_experiment/gpt2_vocab.json',encoding=\"ascii\",errors=\" \") as json_file: \n",
    "    data = json.load(json_file)\n",
    "model_config = GPT.get_default_config()\n",
    "model_config.model_type='gpt-nano'\n",
    "model_config.vocab_size = len(data)\n",
    "model_config.block_size =48"
   ]
  },
  {
   "cell_type": "code",
   "execution_count": 5,
   "metadata": {},
   "outputs": [
    {
     "name": "stdout",
     "output_type": "stream",
     "text": [
      "number of parameters: 2.50M\n"
     ]
    }
   ],
   "source": [
    "model=GPT(model_config)"
   ]
  },
  {
   "cell_type": "code",
   "execution_count": 6,
   "metadata": {},
   "outputs": [
    {
     "data": {
      "text/plain": [
       "tensor([[47910, 47876, 18260,  4753, 26840, 36749]])"
      ]
     },
     "execution_count": 6,
     "metadata": {},
     "output_type": "execute_result"
    }
   ],
   "source": [
    "# first try run without any parameter optimization\n",
    "import torch\n",
    "from transformers import GPT2Tokenizer\n",
    "\n",
    "tokenizer = GPT2Tokenizer.from_pretrained(\"gpt2\")\n",
    "tokenized_input=torch.tensor([tokenizer(\"Vice distortions\")['input_ids']], dtype=torch.long)\n",
    "with torch.no_grad():\n",
    "    cat = model.generate(tokenized_input, 4, do_sample=False)\n",
    "cat\n"
   ]
  },
  {
   "cell_type": "code",
   "execution_count": 7,
   "metadata": {},
   "outputs": [],
   "source": [
    "# clean and tokenize every sentence in the dataset\n",
    "import random\n",
    "import requests, json\n",
    "from torch.utils.data import Dataset\n",
    "\n",
    "class SentenceDataset(Dataset):\n",
    "\n",
    "    def __init__(self, split, length=48):\n",
    "        assert split in {'train', 'test'}\n",
    "        self.split = split\n",
    "        self.length = length\n",
    "        API_URL =  \"https://datasets-server.huggingface.co/first-rows?dataset=bookcorpus&config=plain_text&split=train\"\n",
    "        def query():\n",
    "            response = requests.request(\"GET\", API_URL)\n",
    "            return response.json()\n",
    "        data = query()\n",
    "        tokenized_sentences=[]\n",
    "        sentences=data['rows']\n",
    "        for i in range(100):\n",
    "            tokenized_sen=torch.tensor([tokenizer(sentences[i]['row']['text'])['input_ids']], dtype=torch.long)\n",
    "            if(len(tokenized_sen)>length):\n",
    "                tokenized_sen=tokenized_sen[:][:length]\n",
    "            tokenized_sentences.append(tokenized_sen)\n",
    "        self.samples=tokenized_sentences\n",
    "    \n",
    "    def __len__(self):\n",
    "        return 100\n",
    "    \n",
    "    def get_vocab_size(self):\n",
    "        return self.num_digits\n",
    "    \n",
    "    def get_block_size(self):\n",
    "        # the length of the sequence that will feed into transformer, \n",
    "        # containing concatenated input and the output, but -1 because\n",
    "        # the transformer starts making predictions at the last input element\n",
    "        return self.length #* 2-1\n",
    "\n",
    "    def __getitem__(self, idx):\n",
    "        sentence=self.samples[idx][0]\n",
    "        residual_length=192-len(sentence)\n",
    "        masked=torch.cat((torch.tensor(sentence[:-1]),torch.tensor([50256]*(residual_length+1))),0)\n",
    "        sol=torch.cat((sentence,torch.tensor([50256]*(residual_length))),0)\n",
    "        sol[0]=50256\n",
    "        return masked, sol\n",
    "        #return sentence, sol\n"
   ]
  },
  {
   "cell_type": "code",
   "execution_count": 8,
   "metadata": {},
   "outputs": [
    {
     "name": "stderr",
     "output_type": "stream",
     "text": [
      "Token indices sequence length is longer than the specified maximum sequence length for this model (4793788 > 1024). Running this sequence through the model will result in indexing errors\n"
     ]
    }
   ],
   "source": [
    "with open(\"./books.txt\",encoding=\"utf16\") as file:\n",
    "    tokenized_corpus=tokenizer(file.read())['input_ids']"
   ]
  },
  {
   "cell_type": "code",
   "execution_count": 9,
   "metadata": {},
   "outputs": [],
   "source": [
    "import os\n",
    "\n",
    "class BookDataset(Dataset):\n",
    "\n",
    "    def __init__(self, split, length=48):\n",
    "        assert split in {'train', 'test'}\n",
    "        self.split = split\n",
    "        self.length = length\n",
    "        tokenized_sentences=[]\n",
    "        with open(\"./books.txt\",encoding=\"utf16\") as file:\n",
    "            tokenized_corpus=torch.tensor(tokenizer(file.read())['input_ids'], dtype=torch.long)\n",
    "        corpus_len=len(tokenized_corpus)-(len(tokenized_corpus)%length)\n",
    "        tokenized_corpus=tokenized_corpus[:corpus_len]\n",
    "        tokenized_sentences=[]\n",
    "        self.len=int(corpus_len/length)\n",
    "        for i in range (self.len):\n",
    "            tokenized_sentences.append(tokenized_corpus[i*length:(i+1)*length])\n",
    "        self.samples=tokenized_sentences\n",
    "    \n",
    "    def __len__(self):\n",
    "        return self.len #number of sentences\n",
    "    \n",
    "    def get_vocab_size(self):\n",
    "        return self.num_digits\n",
    "    \n",
    "    def get_block_size(self):\n",
    "        # the length of the sequence that will feed into transformer, \n",
    "        # containing concatenated input and the output, but -1 because\n",
    "        # the transformer starts making predictions at the last input element\n",
    "        return self.length #* 2-1\n",
    "\n",
    "    def __getitem__(self, idx):\n",
    "        sentence=self.samples[idx]\n",
    "        input= sentence\n",
    "        output=torch.cat((torch.tensor(sentence[1:]),torch.tensor([-1])),0)\n",
    "        return input, output\n",
    "        #return sentence, sol\n"
   ]
  },
  {
   "cell_type": "code",
   "execution_count": 10,
   "metadata": {},
   "outputs": [],
   "source": [
    "train_dataset = BookDataset('train')\n",
    "test_dataset = BookDataset('test')"
   ]
  },
  {
   "cell_type": "code",
   "execution_count": 11,
   "metadata": {},
   "outputs": [
    {
     "name": "stdout",
     "output_type": "stream",
     "text": [
      "running on device cpu\n"
     ]
    }
   ],
   "source": [
    "# create a Trainer object\n",
    "from mingpt.trainer import Trainer\n",
    "\n",
    "train_config = Trainer.get_default_config() # we can also change some of them if we want\n",
    "train_config.learning_rate = 5e-4 \n",
    "train_config.max_iters = 2000\n",
    "train_config.num_workers = 0\n",
    "train_config.batch_size=20\n",
    "trainer = Trainer(train_config, model, train_dataset)"
   ]
  },
  {
   "cell_type": "code",
   "execution_count": 14,
   "metadata": {},
   "outputs": [
    {
     "data": {
      "text/plain": [
       "<All keys matched successfully>"
      ]
     },
     "execution_count": 14,
     "metadata": {},
     "output_type": "execute_result"
    }
   ],
   "source": [
    "checkpoint = torch.load('model.pt',map_location=torch.device('cpu'))\n",
    "model.load_state_dict(checkpoint['model_state_dict'])"
   ]
  },
  {
   "cell_type": "code",
   "execution_count": 19,
   "metadata": {},
   "outputs": [
    {
     "name": "stderr",
     "output_type": "stream",
     "text": [
      "C:\\Users\\loren\\AppData\\Local\\Temp\\ipykernel_29912\\802256824.py:35: UserWarning: To copy construct from a tensor, it is recommended to use sourceTensor.clone().detach() or sourceTensor.clone().detach().requires_grad_(True), rather than torch.tensor(sourceTensor).\n",
      "  output=torch.cat((torch.tensor(sentence[1:]),torch.tensor([-1])),0)\n"
     ]
    },
    {
     "name": "stdout",
     "output_type": "stream",
     "text": [
      "iter_dt 2236.02ms; iter 0: train loss 4.45012\n",
      "iter_dt 1426.88ms; iter 10: train loss 5.05880\n",
      "iter_dt 1544.50ms; iter 20: train loss 4.91202\n",
      "iter_dt 1406.41ms; iter 30: train loss 4.86848\n",
      "iter_dt 1500.83ms; iter 40: train loss 4.88711\n",
      "iter_dt 1597.69ms; iter 50: train loss 4.70363\n",
      "iter_dt 1469.77ms; iter 60: train loss 4.73650\n",
      "iter_dt 1568.50ms; iter 70: train loss 4.69944\n",
      "iter_dt 1529.03ms; iter 80: train loss 4.98098\n",
      "iter_dt 1588.93ms; iter 90: train loss 4.76855\n",
      "iter_dt 1552.70ms; iter 100: train loss 4.79214\n",
      "iter_dt 1562.43ms; iter 110: train loss 4.64490\n",
      "iter_dt 1626.03ms; iter 120: train loss 4.72393\n",
      "iter_dt 2207.46ms; iter 130: train loss 4.71895\n",
      "iter_dt 1481.83ms; iter 140: train loss 4.62808\n",
      "iter_dt 1481.83ms; iter 150: train loss 4.94885\n",
      "iter_dt 1443.19ms; iter 160: train loss 4.57405\n",
      "iter_dt 2164.18ms; iter 170: train loss 5.03615\n"
     ]
    },
    {
     "ename": "KeyboardInterrupt",
     "evalue": "",
     "output_type": "error",
     "traceback": [
      "\u001b[1;31m---------------------------------------------------------------------------\u001b[0m",
      "\u001b[1;31mKeyboardInterrupt\u001b[0m                         Traceback (most recent call last)",
      "Cell \u001b[1;32mIn[19], line 12\u001b[0m\n\u001b[0;32m     10\u001b[0m trainer\u001b[39m.\u001b[39mset_callback(\u001b[39m'\u001b[39m\u001b[39mon_batch_end\u001b[39m\u001b[39m'\u001b[39m, batch_end_callback)\n\u001b[0;32m     11\u001b[0m train_config\u001b[39m.\u001b[39mlearning_rate\u001b[39m=\u001b[39m\u001b[39m5e-6\u001b[39m\n\u001b[1;32m---> 12\u001b[0m trainer\u001b[39m.\u001b[39;49mrun()\n",
      "File \u001b[1;32mc:\\Users\\loren\\Documents\\Lorenzo\\UniPi\\minGPT\\mingpt\\trainer.py:93\u001b[0m, in \u001b[0;36mTrainer.run\u001b[1;34m(self)\u001b[0m\n\u001b[0;32m     90\u001b[0m x, y \u001b[39m=\u001b[39m batch\n\u001b[0;32m     92\u001b[0m \u001b[39m# forward the model\u001b[39;00m\n\u001b[1;32m---> 93\u001b[0m logits, \u001b[39mself\u001b[39m\u001b[39m.\u001b[39mloss \u001b[39m=\u001b[39m model(x, y)\n\u001b[0;32m     95\u001b[0m \u001b[39m# backprop and update the parameters\u001b[39;00m\n\u001b[0;32m     96\u001b[0m model\u001b[39m.\u001b[39mzero_grad(set_to_none\u001b[39m=\u001b[39m\u001b[39mTrue\u001b[39;00m)\n",
      "File \u001b[1;32mc:\\Users\\loren\\Documents\\Lorenzo\\UniPi\\minGPT\\minGPT_Env\\lib\\site-packages\\torch\\nn\\modules\\module.py:1194\u001b[0m, in \u001b[0;36mModule._call_impl\u001b[1;34m(self, *input, **kwargs)\u001b[0m\n\u001b[0;32m   1190\u001b[0m \u001b[39m# If we don't have any hooks, we want to skip the rest of the logic in\u001b[39;00m\n\u001b[0;32m   1191\u001b[0m \u001b[39m# this function, and just call forward.\u001b[39;00m\n\u001b[0;32m   1192\u001b[0m \u001b[39mif\u001b[39;00m \u001b[39mnot\u001b[39;00m (\u001b[39mself\u001b[39m\u001b[39m.\u001b[39m_backward_hooks \u001b[39mor\u001b[39;00m \u001b[39mself\u001b[39m\u001b[39m.\u001b[39m_forward_hooks \u001b[39mor\u001b[39;00m \u001b[39mself\u001b[39m\u001b[39m.\u001b[39m_forward_pre_hooks \u001b[39mor\u001b[39;00m _global_backward_hooks\n\u001b[0;32m   1193\u001b[0m         \u001b[39mor\u001b[39;00m _global_forward_hooks \u001b[39mor\u001b[39;00m _global_forward_pre_hooks):\n\u001b[1;32m-> 1194\u001b[0m     \u001b[39mreturn\u001b[39;00m forward_call(\u001b[39m*\u001b[39m\u001b[39minput\u001b[39m, \u001b[39m*\u001b[39m\u001b[39m*\u001b[39mkwargs)\n\u001b[0;32m   1195\u001b[0m \u001b[39m# Do not call functions when jit is used\u001b[39;00m\n\u001b[0;32m   1196\u001b[0m full_backward_hooks, non_full_backward_hooks \u001b[39m=\u001b[39m [], []\n",
      "File \u001b[1;32mc:\\Users\\loren\\Documents\\Lorenzo\\UniPi\\minGPT\\mingpt\\model.py:278\u001b[0m, in \u001b[0;36mGPT.forward\u001b[1;34m(self, idx, targets)\u001b[0m\n\u001b[0;32m    276\u001b[0m loss \u001b[39m=\u001b[39m \u001b[39mNone\u001b[39;00m\n\u001b[0;32m    277\u001b[0m \u001b[39mif\u001b[39;00m targets \u001b[39mis\u001b[39;00m \u001b[39mnot\u001b[39;00m \u001b[39mNone\u001b[39;00m:\n\u001b[1;32m--> 278\u001b[0m     loss \u001b[39m=\u001b[39m F\u001b[39m.\u001b[39;49mcross_entropy(logits\u001b[39m.\u001b[39;49mview(\u001b[39m-\u001b[39;49m\u001b[39m1\u001b[39;49m, logits\u001b[39m.\u001b[39;49msize(\u001b[39m-\u001b[39;49m\u001b[39m1\u001b[39;49m)), targets\u001b[39m.\u001b[39;49mview(\u001b[39m-\u001b[39;49m\u001b[39m1\u001b[39;49m), ignore_index\u001b[39m=\u001b[39;49m\u001b[39m-\u001b[39;49m\u001b[39m1\u001b[39;49m)\n\u001b[0;32m    280\u001b[0m \u001b[39mreturn\u001b[39;00m logits, loss\n",
      "File \u001b[1;32mc:\\Users\\loren\\Documents\\Lorenzo\\UniPi\\minGPT\\minGPT_Env\\lib\\site-packages\\torch\\nn\\functional.py:3026\u001b[0m, in \u001b[0;36mcross_entropy\u001b[1;34m(input, target, weight, size_average, ignore_index, reduce, reduction, label_smoothing)\u001b[0m\n\u001b[0;32m   3024\u001b[0m \u001b[39mif\u001b[39;00m size_average \u001b[39mis\u001b[39;00m \u001b[39mnot\u001b[39;00m \u001b[39mNone\u001b[39;00m \u001b[39mor\u001b[39;00m reduce \u001b[39mis\u001b[39;00m \u001b[39mnot\u001b[39;00m \u001b[39mNone\u001b[39;00m:\n\u001b[0;32m   3025\u001b[0m     reduction \u001b[39m=\u001b[39m _Reduction\u001b[39m.\u001b[39mlegacy_get_string(size_average, reduce)\n\u001b[1;32m-> 3026\u001b[0m \u001b[39mreturn\u001b[39;00m torch\u001b[39m.\u001b[39;49m_C\u001b[39m.\u001b[39;49m_nn\u001b[39m.\u001b[39;49mcross_entropy_loss(\u001b[39minput\u001b[39;49m, target, weight, _Reduction\u001b[39m.\u001b[39;49mget_enum(reduction), ignore_index, label_smoothing)\n",
      "\u001b[1;31mKeyboardInterrupt\u001b[0m: "
     ]
    }
   ],
   "source": [
    "from torch.utils.tensorboard import SummaryWriter\n",
    "\n",
    "tb = SummaryWriter()\n",
    "def batch_end_callback(trainer):\n",
    "    if trainer.iter_num % 10 == 0:\n",
    "        \n",
    "        print(f\"iter_dt {trainer.iter_dt * 1000:.2f}ms; iter {trainer.iter_num}: train loss {trainer.loss.item():.5f}\")\n",
    "        tb.add_scalar(\"Loss\", trainer.loss.item(), trainer.iter_num)\n",
    "tb.close()\n",
    "trainer.set_callback('on_batch_end', batch_end_callback)\n",
    "train_config.learning_rate=5e-6\n",
    "trainer.run()"
   ]
  },
  {
   "cell_type": "code",
   "execution_count": null,
   "metadata": {},
   "outputs": [],
   "source": [
    "optimizer = model.configure_optimizers(train_config)\n",
    "PATH = \"model.pt\"\n",
    "torch.save({\n",
    "    'model_state_dict':model.state_dict()\n",
    "}, PATH)"
   ]
  },
  {
   "cell_type": "code",
   "execution_count": null,
   "metadata": {},
   "outputs": [],
   "source": [
    "for param in model.parameters():\n",
    "    print(param)"
   ]
  },
  {
   "cell_type": "code",
   "execution_count": 25,
   "metadata": {},
   "outputs": [
    {
     "name": "stdout",
     "output_type": "stream",
     "text": [
      "Hello, I'm not a the time to be a few minutes.  \"I'm\n"
     ]
    }
   ],
   "source": [
    "inputs = tokenizer(\"Hello,\", return_tensors=\"pt\")['input_ids']\n",
    "output=model.generate(inputs,20)\n",
    "inverted_vocab= {b:a for a, b in data.items()}\n",
    "out_string=\"\"\n",
    "for i in range(20):\n",
    "      out_string=out_string+inverted_vocab[output[0,i].item()]\n",
    "print(out_string.replace(\"Ġ\",\" \").replace(\"Ċ\",\" \"))"
   ]
  }
 ],
 "metadata": {
  "kernelspec": {
   "display_name": "minGPT_Env",
   "language": "python",
   "name": "python3"
  },
  "language_info": {
   "codemirror_mode": {
    "name": "ipython",
    "version": 3
   },
   "file_extension": ".py",
   "mimetype": "text/x-python",
   "name": "python",
   "nbconvert_exporter": "python",
   "pygments_lexer": "ipython3",
   "version": "3.10.0 (tags/v3.10.0:b494f59, Oct  4 2021, 19:00:18) [MSC v.1929 64 bit (AMD64)]"
  },
  "orig_nbformat": 4,
  "vscode": {
   "interpreter": {
    "hash": "358f410b908016fb66466b2cb1869b8026562dbfcfef87ee32ce010a9997e63e"
   }
  }
 },
 "nbformat": 4,
 "nbformat_minor": 2
}
