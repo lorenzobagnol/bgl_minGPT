{
 "cells": [
  {
   "cell_type": "code",
   "execution_count": 42,
   "metadata": {},
   "outputs": [],
   "source": [
    "from mingpt.model import GPT\n",
    "import json\n",
    "\n",
    "'''using a gpt2 vocab and tokenizer with vocabulary dimension of 50257'''\n",
    "with open('./gpt_experiment/gpt2_vocab.json',encoding=\"ascii\",errors=\" \") as json_file: \n",
    "    data = json.load(json_file)\n",
    "model_config = GPT.get_default_config()\n",
    "model_config.model_type='gpt-nano'\n",
    "model_config.vocab_size = len(data)\n",
    "model_config.block_size =48"
   ]
  },
  {
   "cell_type": "code",
   "execution_count": 2,
   "metadata": {},
   "outputs": [
    {
     "name": "stdout",
     "output_type": "stream",
     "text": [
      "number of parameters: 2.50M\n"
     ]
    }
   ],
   "source": [
    "model=GPT(model_config)"
   ]
  },
  {
   "cell_type": "code",
   "execution_count": 45,
   "metadata": {},
   "outputs": [
    {
     "data": {
      "text/plain": [
       "tensor([[47910, 47876,    13,   198,   198,   198]])"
      ]
     },
     "execution_count": 45,
     "metadata": {},
     "output_type": "execute_result"
    }
   ],
   "source": [
    "# first try run without any parameter optimization\n",
    "import torch\n",
    "from transformers import GPT2Tokenizer\n",
    "\n",
    "tokenizer = GPT2Tokenizer.from_pretrained(\"gpt2\")\n",
    "tokenized_input=torch.tensor([tokenizer(\"Vice distortions\")['input_ids']], dtype=torch.long)\n",
    "with torch.no_grad():\n",
    "    cat = model.generate(tokenized_input, 4, do_sample=False)\n",
    "cat\n"
   ]
  },
  {
   "cell_type": "code",
   "execution_count": 4,
   "metadata": {},
   "outputs": [
    {
     "data": {
      "text/plain": [
       "GPT(\n",
       "  (transformer): ModuleDict(\n",
       "    (wte): Embedding(50257, 48)\n",
       "    (wpe): Embedding(48, 48)\n",
       "    (drop): Dropout(p=0.1, inplace=False)\n",
       "    (h): ModuleList(\n",
       "      (0): Block(\n",
       "        (ln_1): LayerNorm((48,), eps=1e-05, elementwise_affine=True)\n",
       "        (attn): CausalSelfAttention(\n",
       "          (c_attn): Linear(in_features=48, out_features=144, bias=True)\n",
       "          (c_proj): Linear(in_features=48, out_features=48, bias=True)\n",
       "          (attn_dropout): Dropout(p=0.1, inplace=False)\n",
       "          (resid_dropout): Dropout(p=0.1, inplace=False)\n",
       "        )\n",
       "        (ln_2): LayerNorm((48,), eps=1e-05, elementwise_affine=True)\n",
       "        (mlp): ModuleDict(\n",
       "          (c_fc): Linear(in_features=48, out_features=192, bias=True)\n",
       "          (c_proj): Linear(in_features=192, out_features=48, bias=True)\n",
       "          (act): NewGELU()\n",
       "          (dropout): Dropout(p=0.1, inplace=False)\n",
       "        )\n",
       "      )\n",
       "      (1): Block(\n",
       "        (ln_1): LayerNorm((48,), eps=1e-05, elementwise_affine=True)\n",
       "        (attn): CausalSelfAttention(\n",
       "          (c_attn): Linear(in_features=48, out_features=144, bias=True)\n",
       "          (c_proj): Linear(in_features=48, out_features=48, bias=True)\n",
       "          (attn_dropout): Dropout(p=0.1, inplace=False)\n",
       "          (resid_dropout): Dropout(p=0.1, inplace=False)\n",
       "        )\n",
       "        (ln_2): LayerNorm((48,), eps=1e-05, elementwise_affine=True)\n",
       "        (mlp): ModuleDict(\n",
       "          (c_fc): Linear(in_features=48, out_features=192, bias=True)\n",
       "          (c_proj): Linear(in_features=192, out_features=48, bias=True)\n",
       "          (act): NewGELU()\n",
       "          (dropout): Dropout(p=0.1, inplace=False)\n",
       "        )\n",
       "      )\n",
       "      (2): Block(\n",
       "        (ln_1): LayerNorm((48,), eps=1e-05, elementwise_affine=True)\n",
       "        (attn): CausalSelfAttention(\n",
       "          (c_attn): Linear(in_features=48, out_features=144, bias=True)\n",
       "          (c_proj): Linear(in_features=48, out_features=48, bias=True)\n",
       "          (attn_dropout): Dropout(p=0.1, inplace=False)\n",
       "          (resid_dropout): Dropout(p=0.1, inplace=False)\n",
       "        )\n",
       "        (ln_2): LayerNorm((48,), eps=1e-05, elementwise_affine=True)\n",
       "        (mlp): ModuleDict(\n",
       "          (c_fc): Linear(in_features=48, out_features=192, bias=True)\n",
       "          (c_proj): Linear(in_features=192, out_features=48, bias=True)\n",
       "          (act): NewGELU()\n",
       "          (dropout): Dropout(p=0.1, inplace=False)\n",
       "        )\n",
       "      )\n",
       "    )\n",
       "    (ln_f): LayerNorm((48,), eps=1e-05, elementwise_affine=True)\n",
       "  )\n",
       "  (lm_head): Linear(in_features=48, out_features=50257, bias=False)\n",
       ")"
      ]
     },
     "execution_count": 4,
     "metadata": {},
     "output_type": "execute_result"
    }
   ],
   "source": [
    "model"
   ]
  },
  {
   "cell_type": "code",
   "execution_count": 5,
   "metadata": {},
   "outputs": [],
   "source": [
    "# clean and tokenize every sentence in the dataset\n",
    "import random\n",
    "import requests, json\n",
    "from torch.utils.data import Dataset\n",
    "\n",
    "class SentenceDataset(Dataset):\n",
    "\n",
    "    def __init__(self, split, length=48):\n",
    "        assert split in {'train', 'test'}\n",
    "        self.split = split\n",
    "        self.length = length\n",
    "        API_URL =  \"https://datasets-server.huggingface.co/first-rows?dataset=bookcorpus&config=plain_text&split=train\"\n",
    "        def query():\n",
    "            response = requests.request(\"GET\", API_URL)\n",
    "            return response.json()\n",
    "        data = query()\n",
    "        tokenized_sentences=[]\n",
    "        sentences=data['rows']\n",
    "        for i in range(100):\n",
    "            tokenized_sen=torch.tensor([tokenizer(sentences[i]['row']['text'])['input_ids']], dtype=torch.long)\n",
    "            if(len(tokenized_sen)>length):\n",
    "                tokenized_sen=tokenized_sen[:][:length]\n",
    "            tokenized_sentences.append(tokenized_sen)\n",
    "        self.samples=tokenized_sentences\n",
    "    \n",
    "    def __len__(self):\n",
    "        return 100\n",
    "    \n",
    "    def get_vocab_size(self):\n",
    "        return self.num_digits\n",
    "    \n",
    "    def get_block_size(self):\n",
    "        # the length of the sequence that will feed into transformer, \n",
    "        # containing concatenated input and the output, but -1 because\n",
    "        # the transformer starts making predictions at the last input element\n",
    "        return self.length #* 2-1\n",
    "\n",
    "    def __getitem__(self, idx):\n",
    "        sentence=self.samples[idx][0]\n",
    "        residual_length=192-len(sentence)\n",
    "        masked=torch.cat((torch.tensor(sentence[:-1]),torch.tensor([50256]*(residual_length+1))),0)\n",
    "        sol=torch.cat((sentence,torch.tensor([50256]*(residual_length))),0)\n",
    "        sol[0]=50256\n",
    "        return masked, sol\n",
    "        #return sentence, sol\n"
   ]
  },
  {
   "cell_type": "code",
   "execution_count": null,
   "metadata": {},
   "outputs": [],
   "source": [
    "import os\n",
    "\n",
    "outfile=open(\"./books.txt\",'w',encoding=\"utf16\")\n",
    "for file_name in os.listdir(\"C:/Users/loren/Documents/Lorenzo/UniPi/BookCorpus/out_txts\"):\n",
    "    with open(\"C:/Users/loren/Documents/Lorenzo/UniPi/BookCorpus/out_txts/\"+file_name,encoding=\"utf8\") as file:\n",
    "        outfile.write(file.read())\n",
    "outfile.close()\n"
   ]
  },
  {
   "cell_type": "code",
   "execution_count": null,
   "metadata": {},
   "outputs": [],
   "source": [
    "with open(\"./books.txt\",encoding=\"utf16\") as file:\n",
    "    tokenized_corpus=tokenizer(file.read())['input_ids']"
   ]
  },
  {
   "cell_type": "code",
   "execution_count": 8,
   "metadata": {},
   "outputs": [],
   "source": [
    "import os\n",
    "\n",
    "class BookDataset(Dataset):\n",
    "\n",
    "    def __init__(self, split, length=48):\n",
    "        assert split in {'train', 'test'}\n",
    "        self.split = split\n",
    "        self.length = length\n",
    "        tokenized_sentences=[]\n",
    "        with open(\"./books.txt\",encoding=\"utf16\") as file:\n",
    "            tokenized_corpus=torch.tensor(tokenizer(file.read())['input_ids'], dtype=torch.long)\n",
    "        corpus_len=len(tokenized_corpus)-(len(tokenized_corpus)%length)\n",
    "        tokenized_corpus=tokenized_corpus[:corpus_len]\n",
    "        tokenized_sentences=[]\n",
    "        self.len=int(corpus_len/length)\n",
    "        for i in range (self.len):\n",
    "            tokenized_sentences.append(tokenized_corpus[i*length:(i+1)*length])\n",
    "        self.samples=tokenized_sentences\n",
    "    \n",
    "    def __len__(self):\n",
    "        return self.len #number of sentences\n",
    "    \n",
    "    def get_vocab_size(self):\n",
    "        return self.num_digits\n",
    "    \n",
    "    def get_block_size(self):\n",
    "        # the length of the sequence that will feed into transformer, \n",
    "        # containing concatenated input and the output, but -1 because\n",
    "        # the transformer starts making predictions at the last input element\n",
    "        return self.length #* 2-1\n",
    "\n",
    "    def __getitem__(self, idx):\n",
    "        sentence=self.samples[idx]\n",
    "        input=torch.cat((torch.tensor([50256]),torch.tensor(sentence[:self.length-1])),0)\n",
    "        output=sentence\n",
    "        return input, output\n",
    "        #return sentence, sol\n"
   ]
  },
  {
   "cell_type": "code",
   "execution_count": null,
   "metadata": {},
   "outputs": [],
   "source": [
    "train_dataset = SentenceDataset('train')\n",
    "test_dataset = SentenceDataset('test')"
   ]
  },
  {
   "cell_type": "code",
   "execution_count": 9,
   "metadata": {},
   "outputs": [],
   "source": [
    "train_dataset = BookDataset('train')\n",
    "test_dataset = BookDataset('test')"
   ]
  },
  {
   "cell_type": "code",
   "execution_count": 11,
   "metadata": {},
   "outputs": [
    {
     "name": "stderr",
     "output_type": "stream",
     "text": [
      "C:\\Users\\loren\\AppData\\Local\\Temp\\ipykernel_3084\\2359389720.py:34: UserWarning: To copy construct from a tensor, it is recommended to use sourceTensor.clone().detach() or sourceTensor.clone().detach().requires_grad_(True), rather than torch.tensor(sourceTensor).\n",
      "  input=torch.cat((torch.tensor([50256]),torch.tensor(sentence[:self.length-1])),0)\n"
     ]
    },
    {
     "data": {
      "text/plain": [
       "(tensor([50256,   673,   714,  2245,   284,   892,   546,   340,   673,  4721,\n",
       "           607,  5422,   290, 24790,   607,  9941,  2769,   656,   376,  1531,\n",
       "           447,   247,    82, 11222,    13,  1375,  2982,   257,  7128,   272,\n",
       "          2406,   422,   376,  1531,   447,   247,    82,  7721,   290,   788,\n",
       "           262,  1877,  1663,    75,   673,   550,  1716, 23840]),\n",
       " tensor([  673,   714,  2245,   284,   892,   546,   340,   673,  4721,   607,\n",
       "          5422,   290, 24790,   607,  9941,  2769,   656,   376,  1531,   447,\n",
       "           247,    82, 11222,    13,  1375,  2982,   257,  7128,   272,  2406,\n",
       "           422,   376,  1531,   447,   247,    82,  7721,   290,   788,   262,\n",
       "          1877,  1663,    75,   673,   550,  1716, 23840,   284]))"
      ]
     },
     "execution_count": 11,
     "metadata": {},
     "output_type": "execute_result"
    }
   ],
   "source": [
    "train_dataset[7809]\n"
   ]
  },
  {
   "cell_type": "code",
   "execution_count": 12,
   "metadata": {},
   "outputs": [
    {
     "name": "stdout",
     "output_type": "stream",
     "text": [
      "running on device cpu\n"
     ]
    }
   ],
   "source": [
    "# create a Trainer object\n",
    "from mingpt.trainer import Trainer\n",
    "\n",
    "train_config = Trainer.get_default_config() # we can also change some of them if we want\n",
    "train_config.learning_rate = 5e-4 \n",
    "train_config.max_iters = 2000\n",
    "train_config.num_workers = 0\n",
    "train_config.batch_size=20\n",
    "trainer = Trainer(train_config, model, train_dataset)"
   ]
  },
  {
   "cell_type": "code",
   "execution_count": 21,
   "metadata": {},
   "outputs": [
    {
     "name": "stderr",
     "output_type": "stream",
     "text": [
      "C:\\Users\\loren\\AppData\\Local\\Temp\\ipykernel_3084\\2359389720.py:34: UserWarning: To copy construct from a tensor, it is recommended to use sourceTensor.clone().detach() or sourceTensor.clone().detach().requires_grad_(True), rather than torch.tensor(sourceTensor).\n",
      "  input=torch.cat((torch.tensor([50256]),torch.tensor(sentence[:self.length-1])),0)\n"
     ]
    },
    {
     "name": "stdout",
     "output_type": "stream",
     "text": [
      "iter_dt 1509.38ms; iter 0: train loss 5.67433\n",
      "iter_dt 1512.54ms; iter 10: train loss 6.00966\n",
      "iter_dt 1586.20ms; iter 20: train loss 5.62879\n",
      "iter_dt 1525.93ms; iter 30: train loss 5.96450\n",
      "iter_dt 1585.93ms; iter 40: train loss 6.09331\n",
      "iter_dt 1401.69ms; iter 50: train loss 5.57066\n",
      "iter_dt 1451.77ms; iter 60: train loss 5.72183\n",
      "iter_dt 2690.08ms; iter 70: train loss 6.02653\n",
      "iter_dt 1745.43ms; iter 80: train loss 5.60882\n",
      "iter_dt 1400.38ms; iter 90: train loss 5.87655\n",
      "iter_dt 1448.00ms; iter 100: train loss 5.84129\n",
      "iter_dt 1387.19ms; iter 110: train loss 5.80312\n",
      "iter_dt 1514.55ms; iter 120: train loss 6.15001\n",
      "iter_dt 1369.88ms; iter 130: train loss 5.56134\n",
      "iter_dt 1592.71ms; iter 140: train loss 5.84125\n",
      "iter_dt 1603.27ms; iter 150: train loss 5.81761\n",
      "iter_dt 1440.82ms; iter 160: train loss 5.65560\n",
      "iter_dt 1599.36ms; iter 170: train loss 6.20329\n",
      "iter_dt 1457.90ms; iter 180: train loss 5.93310\n"
     ]
    },
    {
     "ename": "KeyboardInterrupt",
     "evalue": "",
     "output_type": "error",
     "traceback": [
      "\u001b[1;31m---------------------------------------------------------------------------\u001b[0m",
      "\u001b[1;31mKeyboardInterrupt\u001b[0m                         Traceback (most recent call last)",
      "Cell \u001b[1;32mIn[21], line 6\u001b[0m\n\u001b[0;32m      4\u001b[0m trainer\u001b[39m.\u001b[39mset_callback(\u001b[39m'\u001b[39m\u001b[39mon_batch_end\u001b[39m\u001b[39m'\u001b[39m, batch_end_callback)\n\u001b[0;32m      5\u001b[0m train_config\u001b[39m.\u001b[39mlearning_rate\u001b[39m=\u001b[39m\u001b[39m5e-5\u001b[39m\n\u001b[1;32m----> 6\u001b[0m trainer\u001b[39m.\u001b[39;49mrun()\n",
      "File \u001b[1;32mc:\\Users\\loren\\Documents\\Lorenzo\\UniPi\\minGPT\\mingpt\\trainer.py:93\u001b[0m, in \u001b[0;36mTrainer.run\u001b[1;34m(self)\u001b[0m\n\u001b[0;32m     90\u001b[0m x, y \u001b[39m=\u001b[39m batch\n\u001b[0;32m     92\u001b[0m \u001b[39m# forward the model\u001b[39;00m\n\u001b[1;32m---> 93\u001b[0m logits, \u001b[39mself\u001b[39m\u001b[39m.\u001b[39mloss \u001b[39m=\u001b[39m model(x, y)\n\u001b[0;32m     95\u001b[0m \u001b[39m# backprop and update the parameters\u001b[39;00m\n\u001b[0;32m     96\u001b[0m model\u001b[39m.\u001b[39mzero_grad(set_to_none\u001b[39m=\u001b[39m\u001b[39mTrue\u001b[39;00m)\n",
      "File \u001b[1;32mc:\\Users\\loren\\Documents\\Lorenzo\\UniPi\\minGPT\\minGPT_Env\\lib\\site-packages\\torch\\nn\\modules\\module.py:1194\u001b[0m, in \u001b[0;36mModule._call_impl\u001b[1;34m(self, *input, **kwargs)\u001b[0m\n\u001b[0;32m   1190\u001b[0m \u001b[39m# If we don't have any hooks, we want to skip the rest of the logic in\u001b[39;00m\n\u001b[0;32m   1191\u001b[0m \u001b[39m# this function, and just call forward.\u001b[39;00m\n\u001b[0;32m   1192\u001b[0m \u001b[39mif\u001b[39;00m \u001b[39mnot\u001b[39;00m (\u001b[39mself\u001b[39m\u001b[39m.\u001b[39m_backward_hooks \u001b[39mor\u001b[39;00m \u001b[39mself\u001b[39m\u001b[39m.\u001b[39m_forward_hooks \u001b[39mor\u001b[39;00m \u001b[39mself\u001b[39m\u001b[39m.\u001b[39m_forward_pre_hooks \u001b[39mor\u001b[39;00m _global_backward_hooks\n\u001b[0;32m   1193\u001b[0m         \u001b[39mor\u001b[39;00m _global_forward_hooks \u001b[39mor\u001b[39;00m _global_forward_pre_hooks):\n\u001b[1;32m-> 1194\u001b[0m     \u001b[39mreturn\u001b[39;00m forward_call(\u001b[39m*\u001b[39m\u001b[39minput\u001b[39m, \u001b[39m*\u001b[39m\u001b[39m*\u001b[39mkwargs)\n\u001b[0;32m   1195\u001b[0m \u001b[39m# Do not call functions when jit is used\u001b[39;00m\n\u001b[0;32m   1196\u001b[0m full_backward_hooks, non_full_backward_hooks \u001b[39m=\u001b[39m [], []\n",
      "File \u001b[1;32mc:\\Users\\loren\\Documents\\Lorenzo\\UniPi\\minGPT\\mingpt\\model.py:278\u001b[0m, in \u001b[0;36mGPT.forward\u001b[1;34m(self, idx, targets)\u001b[0m\n\u001b[0;32m    276\u001b[0m loss \u001b[39m=\u001b[39m \u001b[39mNone\u001b[39;00m\n\u001b[0;32m    277\u001b[0m \u001b[39mif\u001b[39;00m targets \u001b[39mis\u001b[39;00m \u001b[39mnot\u001b[39;00m \u001b[39mNone\u001b[39;00m:\n\u001b[1;32m--> 278\u001b[0m     loss \u001b[39m=\u001b[39m F\u001b[39m.\u001b[39;49mcross_entropy(logits\u001b[39m.\u001b[39;49mview(\u001b[39m-\u001b[39;49m\u001b[39m1\u001b[39;49m, logits\u001b[39m.\u001b[39;49msize(\u001b[39m-\u001b[39;49m\u001b[39m1\u001b[39;49m)), targets\u001b[39m.\u001b[39;49mview(\u001b[39m-\u001b[39;49m\u001b[39m1\u001b[39;49m), ignore_index\u001b[39m=\u001b[39;49m\u001b[39m-\u001b[39;49m\u001b[39m1\u001b[39;49m)\n\u001b[0;32m    280\u001b[0m \u001b[39mreturn\u001b[39;00m logits, loss\n",
      "File \u001b[1;32mc:\\Users\\loren\\Documents\\Lorenzo\\UniPi\\minGPT\\minGPT_Env\\lib\\site-packages\\torch\\nn\\functional.py:3026\u001b[0m, in \u001b[0;36mcross_entropy\u001b[1;34m(input, target, weight, size_average, ignore_index, reduce, reduction, label_smoothing)\u001b[0m\n\u001b[0;32m   3024\u001b[0m \u001b[39mif\u001b[39;00m size_average \u001b[39mis\u001b[39;00m \u001b[39mnot\u001b[39;00m \u001b[39mNone\u001b[39;00m \u001b[39mor\u001b[39;00m reduce \u001b[39mis\u001b[39;00m \u001b[39mnot\u001b[39;00m \u001b[39mNone\u001b[39;00m:\n\u001b[0;32m   3025\u001b[0m     reduction \u001b[39m=\u001b[39m _Reduction\u001b[39m.\u001b[39mlegacy_get_string(size_average, reduce)\n\u001b[1;32m-> 3026\u001b[0m \u001b[39mreturn\u001b[39;00m torch\u001b[39m.\u001b[39;49m_C\u001b[39m.\u001b[39;49m_nn\u001b[39m.\u001b[39;49mcross_entropy_loss(\u001b[39minput\u001b[39;49m, target, weight, _Reduction\u001b[39m.\u001b[39;49mget_enum(reduction), ignore_index, label_smoothing)\n",
      "\u001b[1;31mKeyboardInterrupt\u001b[0m: "
     ]
    }
   ],
   "source": [
    "def batch_end_callback(trainer):\n",
    "    if trainer.iter_num % 10 == 0:\n",
    "        print(f\"iter_dt {trainer.iter_dt * 1000:.2f}ms; iter {trainer.iter_num}: train loss {trainer.loss.item():.5f}\")\n",
    "trainer.set_callback('on_batch_end', batch_end_callback)\n",
    "train_config.learning_rate=5e-5\n",
    "trainer.run()"
   ]
  },
  {
   "cell_type": "code",
   "execution_count": 49,
   "metadata": {},
   "outputs": [
    {
     "name": "stdout",
     "output_type": "stream",
     "text": [
      "tensor([[15496,    11,   616,  3290,   318, 13779]])\n",
      ".ĠIĊ.Ġthe\n",
      ". IĊ. the\n"
     ]
    }
   ],
   "source": [
    "inputs = tokenizer(\"Hello, my dog is cute\", return_tensors=\"pt\")['input_ids']\n",
    "print(inputs)\n",
    "output=model(inputs)\n",
    "max_ids=output[0].max(2).indices\n",
    "data.items()\n",
    "inverted_vocab= {b:a for a, b in data.items()}\n",
    "out_string=\"\"\n",
    "for i in range(5):\n",
    "      out_string=out_string+inverted_vocab[max_ids[0,i].item()]\n",
    "print(out_string)\n",
    "print(out_string.replace(\"Ġ\",\" \"))"
   ]
  }
 ],
 "metadata": {
  "kernelspec": {
   "display_name": "minGPT_Env",
   "language": "python",
   "name": "python3"
  },
  "language_info": {
   "codemirror_mode": {
    "name": "ipython",
    "version": 3
   },
   "file_extension": ".py",
   "mimetype": "text/x-python",
   "name": "python",
   "nbconvert_exporter": "python",
   "pygments_lexer": "ipython3",
   "version": "3.10.0 (tags/v3.10.0:b494f59, Oct  4 2021, 19:00:18) [MSC v.1929 64 bit (AMD64)]"
  },
  "orig_nbformat": 4,
  "vscode": {
   "interpreter": {
    "hash": "358f410b908016fb66466b2cb1869b8026562dbfcfef87ee32ce010a9997e63e"
   }
  }
 },
 "nbformat": 4,
 "nbformat_minor": 2
}
